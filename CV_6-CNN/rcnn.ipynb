{
  "cells": [
    {
      "cell_type": "markdown",
      "id": "q8Ertg95XFkv",
      "metadata": {
        "id": "q8Ertg95XFkv"
      },
      "source": [
        "### Αν και τα αποτελέσματα πρέπει να εμφανίζονται παρακάτω, σε περίπτωση που δεν, παρακαλώ επισκευτείτε αυτό το [link](https://drive.google.com/drive/folders/1UhkzpJmkRdwSGK4JMMD0nEc9oR4vUI60?usp=sharing) ώστε να το ανοίξετε στο google collab. Έχω δώσει read/write δικαιώματα στο συγκεκριμένο link, οπότε με ενα double click στο rcnn.ipynb πρέπει να ανοίγει. Ωστόσο αν υπάρχει το παραμικρό πρόβλημα, παρακαλώ επικοινωνήστε μαζί μου στο up1084537@ac.upatras.gr"
      ]
    },
    {
      "cell_type": "code",
      "execution_count": null,
      "id": "R-37QKxKdCXS",
      "metadata": {
        "colab": {
          "base_uri": "https://localhost:8080/"
        },
        "id": "R-37QKxKdCXS",
        "outputId": "e0c039b6-a531-40ff-e380-3cf1a36c27e9"
      },
      "outputs": [
        {
          "name": "stdout",
          "output_type": "stream",
          "text": [
            "Mounted at /content/drive\n"
          ]
        }
      ],
      "source": [
        "from google.colab import drive\n",
        "drive.mount('/content/drive')"
      ]
    },
    {
      "cell_type": "code",
      "execution_count": null,
      "id": "Lv0_OgCrKeZJ",
      "metadata": {
        "colab": {
          "base_uri": "https://localhost:8080/"
        },
        "id": "Lv0_OgCrKeZJ",
        "outputId": "6ce3d578-d60b-4d5f-98f4-8be070dd9a37"
      },
      "outputs": [
        {
          "name": "stdout",
          "output_type": "stream",
          "text": [
            "cp: cannot create symbolic link '/content/drive/MyDrive/copy_CV_6-CNN/CV_6-CNN': Read-only file system\n"
          ]
        }
      ],
      "source": [
        "# @title DO NOT RUN\n",
        "!cp -r '/content/drive/MyDrive/CV_6-CNN' '/content/drive/MyDrive/copy_CV_6-CNN'"
      ]
    },
    {
      "cell_type": "code",
      "execution_count": null,
      "id": "available-retail",
      "metadata": {
        "id": "available-retail"
      },
      "outputs": [],
      "source": [
        "import numpy as np\n",
        "import torch\n",
        "import torch.nn as nn\n",
        "import torch.optim as optim\n",
        "from datetime import datetime\n",
        "import matplotlib.pyplot as plt\n",
        "plt.style.use('dark_background')\n",
        "plt.rcParams['image.cmap'] = 'gist_gray'\n",
        "from torch.utils.data import DataLoader\n",
        "from torchvision import models\n",
        "from torchvision import transforms\n",
        "from matplotlib.patches import Rectangle\n",
        "from torchvision.datasets import CocoDetection\n",
        "device = torch.device('cuda:0')"
      ]
    },
    {
      "cell_type": "markdown",
      "id": "zBsrBDhTfI1l",
      "metadata": {
        "id": "zBsrBDhTfI1l"
      },
      "source": [
        "Dataset"
      ]
    },
    {
      "cell_type": "code",
      "execution_count": null,
      "id": "OoauSFqRUuNe",
      "metadata": {
        "colab": {
          "base_uri": "https://localhost:8080/"
        },
        "id": "OoauSFqRUuNe",
        "outputId": "b0b7d245-8927-4829-ec88-656ffd407217"
      },
      "outputs": [
        {
          "name": "stdout",
          "output_type": "stream",
          "text": [
            "loading annotations into memory...\n",
            "Done (t=2.46s)\n",
            "creating index...\n",
            "index created!\n"
          ]
        }
      ],
      "source": [
        "dataset_val = CocoDetection(root='/content/drive/MyDrive/CV_6-CNN/val2017/',\n",
        "                            annFile='/content/drive/MyDrive/CV_6-CNN/annotations_trainval2017/annotations/instances_val2017.json',\n",
        "                            transform=transforms.Compose([transforms.ToTensor(),transforms.Resize((320,213))]))\n"
      ]
    },
    {
      "cell_type": "markdown",
      "id": "NM7czXb2fKdy",
      "metadata": {
        "id": "NM7czXb2fKdy"
      },
      "source": [
        "Dataloader"
      ]
    },
    {
      "cell_type": "code",
      "execution_count": null,
      "id": "b3e8VG3qfH8e",
      "metadata": {
        "id": "b3e8VG3qfH8e"
      },
      "outputs": [],
      "source": [
        "val_dataloader = DataLoader(dataset_val, batch_size=1, shuffle=False, num_workers=0)"
      ]
    },
    {
      "cell_type": "markdown",
      "id": "srgZhZo_VExz",
      "metadata": {
        "id": "srgZhZo_VExz"
      },
      "source": [
        "# SSD with VGG16 backbone CNN"
      ]
    },
    {
      "cell_type": "code",
      "execution_count": null,
      "id": "Bs89BTOSVCrp",
      "metadata": {
        "colab": {
          "base_uri": "https://localhost:8080/"
        },
        "id": "Bs89BTOSVCrp",
        "outputId": "c960d27e-8e41-49c2-d425-8bb2dc0bd505"
      },
      "outputs": [
        {
          "name": "stderr",
          "output_type": "stream",
          "text": [
            "/usr/local/lib/python3.10/dist-packages/torchvision/models/_utils.py:208: UserWarning: The parameter 'pretrained' is deprecated since 0.13 and may be removed in the future, please use 'weights' instead.\n",
            "  warnings.warn(\n",
            "/usr/local/lib/python3.10/dist-packages/torchvision/models/_utils.py:223: UserWarning: Arguments other than a weight enum or `None` for 'weights' are deprecated since 0.13 and may be removed in the future. The current behavior is equivalent to passing `weights=SSD300_VGG16_Weights.COCO_V1`. You can also use `weights=SSD300_VGG16_Weights.DEFAULT` to get the most up-to-date weights.\n",
            "  warnings.warn(msg)\n",
            "Downloading: \"https://download.pytorch.org/models/ssd300_vgg16_coco-b556d3b4.pth\" to /root/.cache/torch/hub/checkpoints/ssd300_vgg16_coco-b556d3b4.pth\n",
            "100%|██████████| 136M/136M [00:01<00:00, 89.5MB/s]\n"
          ]
        }
      ],
      "source": [
        "model = models.detection.ssd300_vgg16(pretrained=True,num_classes=91).to(device)"
      ]
    },
    {
      "cell_type": "markdown",
      "id": "RylySUdfme88",
      "metadata": {
        "id": "RylySUdfme88"
      },
      "source": [
        "ALREADY RAN, THE RESULTS ARE ALREADY SAVED IN THE DRAVE UNDER /all_detections_ssd and /all_targets_ssd"
      ]
    },
    {
      "cell_type": "code",
      "execution_count": null,
      "id": "R8RlASc9Jt2Y",
      "metadata": {
        "colab": {
          "base_uri": "https://localhost:8080/"
        },
        "id": "R8RlASc9Jt2Y",
        "outputId": "173df44d-cc68-4f11-8584-5e51d56bb7c9"
      },
      "outputs": [
        {
          "name": "stderr",
          "output_type": "stream",
          "text": [
            "100%|██████████| 5000/5000 [30:26<00:00,  2.74it/s]\n"
          ]
        }
      ],
      "source": [
        "from tqdm import tqdm # fancy and unnecessary library to add loading bar for the loop\n",
        "\n",
        "model.eval() # switch to evaluation mode,\n",
        "\n",
        "all_detections = []\n",
        "all_targets = []\n",
        "for imgs_batch,targets_batch in tqdm(val_dataloader):\n",
        "    # Move imgs_batch and targets_batch to device\n",
        "    imgs_batch = [imgs.to(device) for imgs in imgs_batch]\n",
        "\n",
        "    targets_batch = [targets for targets in targets_batch]\n",
        "\n",
        "    # Transform targets to COCO format.\n",
        "    new_targets_batch = []\n",
        "    targets_batch = [targets_batch]\n",
        "\n",
        "    for targets in targets_batch:\n",
        "        new_targets = {'boxes':[],'labels':[]}\n",
        "        for t in targets:\n",
        "            x,y,w,h = [s for s in t['bbox']]\n",
        "            new_targets['boxes'].append(torch.Tensor([x, y, x+w, y+h]))\n",
        "            new_targets['labels'].append(t['category_id'])\n",
        "        if len(new_targets['boxes']) > 0:\n",
        "            new_targets['boxes'] = torch.stack(new_targets['boxes'], dim=0)\n",
        "        new_targets['labels'] = torch.Tensor(new_targets['labels']).long()\n",
        "        new_targets_batch.append(new_targets)\n",
        "    targets_batch = new_targets_batch\n",
        "\n",
        "    # Forward pass\n",
        "    with torch.no_grad():\n",
        "        detections_batch = model(imgs_batch)\n",
        "\n",
        "    del imgs_batch\n",
        "\n",
        "\n",
        "    # Keep detections and targets to compare\n",
        "    all_targets.append(targets_batch)\n",
        "    all_detections.append(detections_batch)\n",
        "\n",
        "torch.save(all_detections, '/content/drive/MyDrive/CV_6-CNN/all_detections_ssd.pth')\n",
        "torch.save(all_targets,'/content/drive/MyDrive/CV_6-CNN/all_targets_ssd.pth')"
      ]
    },
    {
      "cell_type": "markdown",
      "id": "uvO7XsBj5yo2",
      "metadata": {
        "id": "uvO7XsBj5yo2"
      },
      "source": [
        "## Precision, Recall, F1 score (SSD)"
      ]
    },
    {
      "cell_type": "markdown",
      "id": "tPrtGHoKg2nR",
      "metadata": {
        "id": "tPrtGHoKg2nR"
      },
      "source": [
        "### Load results for SSD"
      ]
    },
    {
      "cell_type": "code",
      "execution_count": null,
      "id": "tC0ikk3BgbGI",
      "metadata": {
        "colab": {
          "base_uri": "https://localhost:8080/"
        },
        "id": "tC0ikk3BgbGI",
        "outputId": "33e517c8-241c-4bad-92f5-b8f220c7ef30"
      },
      "outputs": [
        {
          "name": "stderr",
          "output_type": "stream",
          "text": [
            "<ipython-input-6-76098310079e>:2: FutureWarning: You are using `torch.load` with `weights_only=False` (the current default value), which uses the default pickle module implicitly. It is possible to construct malicious pickle data which will execute arbitrary code during unpickling (See https://github.com/pytorch/pytorch/blob/main/SECURITY.md#untrusted-models for more details). In a future release, the default value for `weights_only` will be flipped to `True`. This limits the functions that could be executed during unpickling. Arbitrary objects will no longer be allowed to be loaded via this mode unless they are explicitly allowlisted by the user via `torch.serialization.add_safe_globals`. We recommend you start setting `weights_only=True` for any use case where you don't have full control of the loaded file. Please open an issue on GitHub for any issues related to this experimental feature.\n",
            "  detections = torch.load('/content/drive/MyDrive/CV_6-CNN/all_detections_ssd.pth')\n",
            "<ipython-input-6-76098310079e>:3: FutureWarning: You are using `torch.load` with `weights_only=False` (the current default value), which uses the default pickle module implicitly. It is possible to construct malicious pickle data which will execute arbitrary code during unpickling (See https://github.com/pytorch/pytorch/blob/main/SECURITY.md#untrusted-models for more details). In a future release, the default value for `weights_only` will be flipped to `True`. This limits the functions that could be executed during unpickling. Arbitrary objects will no longer be allowed to be loaded via this mode unless they are explicitly allowlisted by the user via `torch.serialization.add_safe_globals`. We recommend you start setting `weights_only=True` for any use case where you don't have full control of the loaded file. Please open an issue on GitHub for any issues related to this experimental feature.\n",
            "  targets = torch.load('/content/drive/MyDrive/CV_6-CNN/all_targets_ssd.pth')\n"
          ]
        }
      ],
      "source": [
        "# Load saved detections and targets\n",
        "detections = torch.load('/content/drive/MyDrive/CV_6-CNN/all_detections_ssd.pth')\n",
        "targets = torch.load('/content/drive/MyDrive/CV_6-CNN/all_targets_ssd.pth')"
      ]
    },
    {
      "cell_type": "code",
      "execution_count": null,
      "id": "Nl35rIf85x8i",
      "metadata": {
        "id": "Nl35rIf85x8i"
      },
      "outputs": [],
      "source": [
        "# Evaluation Functions\n",
        "import torch\n",
        "import numpy as np\n",
        "from tqdm import tqdm\n",
        "\n",
        "def calculate_iou(box1, box2):\n",
        "    \"\"\"Calculate IoU between two boxes\"\"\"\n",
        "    # Convert boxes to correct format if needed\n",
        "    if len(box1) == 4:\n",
        "        box1_x1, box1_y1 = box1[0], box1[1]\n",
        "        box1_x2, box1_y2 = box1[0] + box1[2], box1[1] + box1[3]\n",
        "    else:\n",
        "        box1_x1, box1_y1, box1_x2, box1_y2 = box1\n",
        "\n",
        "    if len(box2) == 4:\n",
        "        box2_x1, box2_y1 = box2[0], box2[1]\n",
        "        box2_x2, box2_y2 = box2[0] + box2[2], box2[1] + box2[3]\n",
        "    else:\n",
        "        box2_x1, box2_y1, box2_x2, box2_y2 = box2\n",
        "\n",
        "    # Calculate intersection coordinates\n",
        "    x1 = max(box1_x1, box2_x1)\n",
        "    y1 = max(box1_y1, box2_y1)\n",
        "    x2 = min(box1_x2, box2_x2)\n",
        "    y2 = min(box1_y2, box2_y2)\n",
        "\n",
        "    # Calculate areas\n",
        "    intersection = max(0, x2 - x1) * max(0, y2 - y1)\n",
        "    box1_area = (box1_x2 - box1_x1) * (box1_y2 - box1_y1)\n",
        "    box2_area = (box2_x2 - box2_x1) * (box2_y2 - box2_y1)\n",
        "    union = box1_area + box2_area - intersection\n",
        "\n",
        "    return intersection / union if union > 0 else 0\n",
        "\n",
        "def evaluate_detections(detections, targets, iou_threshold=0.5, conf_threshold=0.5):\n",
        "    \"\"\"\n",
        "    Evaluate object detections against ground truth targets\n",
        "    \"\"\"\n",
        "    true_positives = []\n",
        "    false_positives = []\n",
        "    total_gt = 0\n",
        "\n",
        "    # Process each image\n",
        "    for img_dets, img_targets in tqdm(zip(detections, targets)):\n",
        "        if len(img_dets) == 0 or len(img_targets) == 0:\n",
        "            continue\n",
        "\n",
        "        # Get detection boxes and scores\n",
        "        det_boxes = img_dets[0]['boxes']\n",
        "        det_scores = img_dets[0]['scores']\n",
        "        det_labels = img_dets[0]['labels']\n",
        "\n",
        "        # Filter by confidence\n",
        "        mask = det_scores > conf_threshold\n",
        "        det_boxes = det_boxes[mask]\n",
        "        det_scores = det_scores[mask]\n",
        "        det_labels = det_labels[mask]\n",
        "\n",
        "        # Get target boxes and labels - they're already in the correct format\n",
        "        target_boxes = img_targets[0]['boxes']\n",
        "        target_labels = img_targets[0]['labels']\n",
        "\n",
        "        total_gt += len(target_boxes)\n",
        "\n",
        "        # Match detections to ground truth\n",
        "        matched_targets = set()  # Keep track of matched targets\n",
        "\n",
        "        for det_box, det_score, det_label in zip(det_boxes, det_scores, det_labels):\n",
        "            max_iou = 0\n",
        "            max_idx = -1\n",
        "\n",
        "            # Compare with each target box\n",
        "            for i, target_box in enumerate(target_boxes):\n",
        "                if i in matched_targets:\n",
        "                    continue\n",
        "\n",
        "                if target_labels[i] != det_label:\n",
        "                    continue\n",
        "\n",
        "                iou = calculate_iou(det_box.cpu(), target_box.cpu())\n",
        "                if iou > max_iou:\n",
        "                    max_iou = iou\n",
        "                    max_idx = i\n",
        "\n",
        "            if max_iou >= iou_threshold:\n",
        "                true_positives.append(det_score.cpu().item())\n",
        "                matched_targets.add(max_idx)\n",
        "            else:\n",
        "                false_positives.append(det_score.cpu().item())\n",
        "\n",
        "    # Calculate metrics\n",
        "    true_positives = np.array(sorted(true_positives, reverse=True))\n",
        "    false_positives = np.array(sorted(false_positives, reverse=True))\n",
        "\n",
        "    # Calculate final metrics\n",
        "    if len(true_positives) + len(false_positives) > 0:\n",
        "        precision = len(true_positives) / (len(true_positives) + len(false_positives))\n",
        "    else:\n",
        "        precision = 0\n",
        "\n",
        "    if total_gt > 0:\n",
        "        recall = len(true_positives) / total_gt\n",
        "    else:\n",
        "        recall = 0\n",
        "\n",
        "    f1 = 2 * (precision * recall) / (precision + recall) if (precision + recall) > 0 else 0\n",
        "\n",
        "    return precision, recall, f1"
      ]
    },
    {
      "cell_type": "code",
      "execution_count": null,
      "id": "2JAvurqYhRXQ",
      "metadata": {
        "id": "2JAvurqYhRXQ"
      },
      "outputs": [],
      "source": [
        "# Visualization Functions\n",
        "import matplotlib.pyplot as plt\n",
        "\n",
        "def calculate_pr_points(detections, targets, iou_threshold=0.5):\n",
        "    \"\"\"Calculate precision and recall points for plotting\"\"\"\n",
        "    tp = []\n",
        "    scores = []\n",
        "    num_gt = 0\n",
        "\n",
        "    for img_dets, img_targets in zip(detections, targets):\n",
        "        if len(img_dets) == 0 or len(img_targets) == 0:\n",
        "            continue\n",
        "\n",
        "        det_boxes = img_dets[0]['boxes']\n",
        "        det_scores = img_dets[0]['scores']\n",
        "        det_labels = img_dets[0]['labels']\n",
        "\n",
        "        target_boxes = img_targets[0]['boxes']\n",
        "        target_labels = img_targets[0]['labels']\n",
        "\n",
        "        num_gt += len(target_boxes)\n",
        "\n",
        "        matched_targets = set()\n",
        "\n",
        "        for det_box, score, det_label in zip(det_boxes, det_scores, det_labels):\n",
        "            max_iou = 0\n",
        "            max_idx = -1\n",
        "\n",
        "            for i, target_box in enumerate(target_boxes):\n",
        "                if i in matched_targets:\n",
        "                    continue\n",
        "\n",
        "                if target_labels[i] != det_label:\n",
        "                    continue\n",
        "\n",
        "                iou = calculate_iou(det_box.cpu(), target_box.cpu())\n",
        "                if iou > max_iou:\n",
        "                    max_iou = iou\n",
        "                    max_idx = i\n",
        "\n",
        "            if max_iou >= iou_threshold and max_idx not in matched_targets:\n",
        "                tp.append(1)\n",
        "                matched_targets.add(max_idx)\n",
        "            else:\n",
        "                tp.append(0)\n",
        "            scores.append(score.cpu().item())\n",
        "\n",
        "    if len(tp) == 0:\n",
        "        return np.array([]), np.array([])\n",
        "\n",
        "    # Sort by confidence\n",
        "    indices = np.argsort(scores)[::-1]\n",
        "    tp = np.array(tp)[indices]\n",
        "\n",
        "    # Calculate cumulative precisions and recalls\n",
        "    tp_cumsum = np.cumsum(tp)\n",
        "    precisions = tp_cumsum / np.arange(1, len(tp) + 1)\n",
        "    recalls = tp_cumsum / num_gt if num_gt > 0 else np.zeros_like(tp_cumsum)\n",
        "\n",
        "    return precisions, recalls\n",
        "\n",
        "def plot_pr_curve(precisions, recalls, model_name):\n",
        "    plt.plot(recalls, precisions, label=model_name)\n",
        "    plt.xlabel('Recall')\n",
        "    plt.ylabel('Precision')\n",
        "    plt.title('Precision-Recall Curve')\n",
        "    plt.grid(True)\n",
        "    plt.legend()"
      ]
    },
    {
      "cell_type": "code",
      "execution_count": null,
      "id": "gOYXcV11h_MQ",
      "metadata": {
        "colab": {
          "base_uri": "https://localhost:8080/"
        },
        "id": "gOYXcV11h_MQ",
        "outputId": "f7d445fa-96af-431f-fa23-467065c49fa4"
      },
      "outputs": [
        {
          "name": "stdout",
          "output_type": "stream",
          "text": [
            "Calculating mAP...\n",
            "\n",
            "Mean Average Precision (mAP): 0.0076\n",
            "\n",
            "Average Precision per class:\n",
            "Class 1: 0.0110\n",
            "Class 2: 0.0091\n",
            "Class 3: 0.0236\n",
            "Class 4: 0.0089\n",
            "Class 5: 0.0023\n",
            "Class 6: 0.0012\n",
            "Class 7: 0.0005\n",
            "Class 8: 0.0020\n",
            "Class 9: 0.0103\n",
            "Class 10: 0.0027\n",
            "Class 11: 0.0007\n",
            "Class 13: 0.0015\n",
            "Class 14: 0.0011\n",
            "Class 15: 0.0022\n",
            "Class 16: 0.0042\n",
            "Class 17: 0.0021\n",
            "Class 18: 0.0010\n",
            "Class 19: 0.0061\n",
            "Class 20: 0.0159\n",
            "Class 21: 0.0099\n",
            "Class 22: 0.0201\n",
            "Class 23: 0.0114\n",
            "Class 24: 0.0228\n",
            "Class 25: 0.0054\n",
            "Class 27: 0.0227\n",
            "Class 28: 0.0053\n",
            "Class 31: 0.0057\n",
            "Class 32: 0.0022\n",
            "Class 33: 0.0909\n",
            "Class 34: 0.0006\n",
            "Class 35: 0.0028\n",
            "Class 36: 0.0057\n",
            "Class 37: 0.0006\n",
            "Class 38: 0.0089\n",
            "Class 39: 0.0018\n",
            "Class 40: 0.0152\n",
            "Class 41: 0.0014\n",
            "Class 42: 0.0024\n",
            "Class 43: 0.0051\n",
            "Class 44: 0.0072\n",
            "Class 46: 0.0052\n",
            "Class 47: 0.0020\n",
            "Class 48: 0.0130\n",
            "Class 49: 0.0028\n",
            "Class 50: 0.0006\n",
            "Class 51: 0.0040\n",
            "Class 52: 0.0057\n",
            "Class 53: 0.0067\n",
            "Class 54: 0.0038\n",
            "Class 55: 0.0043\n",
            "Class 56: 0.0076\n",
            "Class 57: 0.0057\n",
            "Class 58: 0.0455\n",
            "Class 59: 0.0033\n",
            "Class 60: 0.0150\n",
            "Class 61: 0.0065\n",
            "Class 62: 0.0092\n",
            "Class 63: 0.0303\n",
            "Class 64: 0.0037\n",
            "Class 65: 0.0013\n",
            "Class 67: 0.0020\n",
            "Class 70: 0.0005\n",
            "Class 72: 0.0053\n",
            "Class 73: 0.0012\n",
            "Class 74: 0.0024\n",
            "Class 75: 0.0227\n",
            "Class 76: 0.0053\n",
            "Class 77: 0.0021\n",
            "Class 78: 0.0000\n",
            "Class 79: 0.0035\n",
            "Class 80: 0.0000\n",
            "Class 81: 0.0005\n",
            "Class 82: 0.0057\n",
            "Class 84: 0.0038\n",
            "Class 85: 0.0012\n",
            "Class 86: 0.0017\n",
            "Class 87: 0.0000\n",
            "Class 88: 0.0182\n",
            "Class 89: 0.0000\n",
            "Class 90: 0.0000\n"
          ]
        }
      ],
      "source": [
        "def calculate_map(detections, targets, iou_threshold=0.5, num_recall_points=11):\n",
        "    \"\"\"\n",
        "    Calculate Mean Average Precision\n",
        "    \"\"\"\n",
        "    # Store APs for each class\n",
        "    class_aps = {}\n",
        "\n",
        "    # Get all unique classes from targets\n",
        "    all_classes = set()\n",
        "    for img_targets in targets:\n",
        "        if len(img_targets) > 0:\n",
        "            all_classes.update(img_targets[0]['labels'].cpu().numpy())\n",
        "\n",
        "    # Calculate AP for each class\n",
        "    for class_id in all_classes:\n",
        "        tp = []\n",
        "        scores = []\n",
        "        num_gt = 0\n",
        "\n",
        "        # Process each image\n",
        "        for img_dets, img_targets in zip(detections, targets):\n",
        "            if len(img_dets) == 0 or len(img_targets) == 0:\n",
        "                continue\n",
        "\n",
        "            # Get detections for this class\n",
        "            det_boxes = img_dets[0]['boxes']\n",
        "            det_scores = img_dets[0]['scores']\n",
        "            det_labels = img_dets[0]['labels']\n",
        "\n",
        "            # Filter detections by class\n",
        "            class_mask = det_labels == class_id\n",
        "            det_boxes = det_boxes[class_mask]\n",
        "            det_scores = det_scores[class_mask]\n",
        "\n",
        "            # Get ground truth for this class\n",
        "            target_boxes = img_targets[0]['boxes']\n",
        "            target_labels = img_targets[0]['labels']\n",
        "\n",
        "            # Filter ground truth boxes by class\n",
        "            target_mask = target_labels == class_id\n",
        "            if target_mask.any():\n",
        "                target_boxes = target_boxes[target_mask]\n",
        "                num_gt += len(target_boxes)\n",
        "            else:\n",
        "                continue\n",
        "\n",
        "            if len(det_boxes) == 0:\n",
        "                continue\n",
        "\n",
        "            # Match detections to ground truth\n",
        "            matched_gt = set()\n",
        "\n",
        "            for det_box, score in zip(det_boxes, det_scores):\n",
        "                max_iou = 0\n",
        "                max_idx = -1\n",
        "\n",
        "                for i, target_box in enumerate(target_boxes):\n",
        "                    if i in matched_gt:\n",
        "                        continue\n",
        "\n",
        "                    iou = calculate_iou(det_box.cpu(), target_box.cpu())\n",
        "                    if iou > max_iou:\n",
        "                        max_iou = iou\n",
        "                        max_idx = i\n",
        "\n",
        "                if max_iou >= iou_threshold and max_idx not in matched_gt:\n",
        "                    tp.append(1)\n",
        "                    matched_gt.add(max_idx)\n",
        "                else:\n",
        "                    tp.append(0)\n",
        "                scores.append(score.cpu().item())\n",
        "\n",
        "        if len(tp) == 0 or num_gt == 0:\n",
        "            class_aps[class_id] = 0\n",
        "            continue\n",
        "\n",
        "        # Convert to numpy arrays\n",
        "        tp = np.array(tp)\n",
        "        scores = np.array(scores)\n",
        "\n",
        "        # Sort by confidence\n",
        "        indices = np.argsort(scores)[::-1]\n",
        "        tp = tp[indices]\n",
        "\n",
        "        # Compute precision and recall\n",
        "        cumsum = np.cumsum(tp)\n",
        "        precisions = cumsum / np.arange(1, len(tp) + 1)\n",
        "        recalls = cumsum / num_gt\n",
        "\n",
        "        # Compute AP using 11-point interpolation\n",
        "        ap = 0\n",
        "        for recall_threshold in np.linspace(0, 1, num_recall_points):\n",
        "            precision_values = precisions[recalls >= recall_threshold]\n",
        "            if len(precision_values) > 0:\n",
        "                ap += np.max(precision_values)\n",
        "        ap /= num_recall_points\n",
        "\n",
        "        class_aps[class_id] = ap\n",
        "\n",
        "    # Calculate mAP\n",
        "    mean_ap = np.mean(list(class_aps.values()))\n",
        "\n",
        "    return mean_ap, class_aps\n",
        "\n",
        "# Calculate mAP\n",
        "print(\"Calculating mAP...\")\n",
        "mean_ap, class_aps = calculate_map(detections, targets)\n",
        "print(f\"\\nMean Average Precision (mAP): {mean_ap:.4f}\")\n",
        "\n",
        "# Print AP for each class\n",
        "print(\"\\nAverage Precision per class:\")\n",
        "for class_id, ap in sorted(class_aps.items()):\n",
        "    print(f\"Class {class_id}: {ap:.4f}\")"
      ]
    },
    {
      "cell_type": "code",
      "execution_count": null,
      "id": "S4H3qspziF7C",
      "metadata": {
        "colab": {
          "base_uri": "https://localhost:8080/",
          "height": 840
        },
        "id": "S4H3qspziF7C",
        "outputId": "e8f43ff0-463d-41c5-86c7-fac2898a1b09"
      },
      "outputs": [
        {
          "name": "stdout",
          "output_type": "stream",
          "text": [
            "Evaluating SSD...\n"
          ]
        },
        {
          "name": "stderr",
          "output_type": "stream",
          "text": [
            "5000it [00:13, 383.74it/s]\n"
          ]
        },
        {
          "name": "stdout",
          "output_type": "stream",
          "text": [
            "\n",
            "SSD Results:\n",
            "Precision: 0.0485\n",
            "Recall: 0.0133\n",
            "F1 Score: 0.0209\n"
          ]
        },
        {
          "data": {
            "image/png": "[encoded data removed]",
            "text/plain": [
              "<Figure size 1000x800 with 1 Axes>"
            ]
          },
          "metadata": {},
          "output_type": "display_data"
        }
      ],
      "source": [
        "# Evaluate SSD\n",
        "print(\"Evaluating SSD...\")\n",
        "precision_ssd, recall_ssd, f1_ssd = evaluate_detections(detections, targets)\n",
        "\n",
        "print(f\"\\nSSD Results:\")\n",
        "print(f\"Precision: {precision_ssd:.4f}\")\n",
        "print(f\"Recall: {recall_ssd:.4f}\")\n",
        "print(f\"F1 Score: {f1_ssd:.4f}\")\n",
        "\n",
        "# Plot PR curve\n",
        "plt.figure(figsize=(10, 8))\n",
        "precisions_ssd, recalls_ssd = calculate_pr_points(detections, targets)\n",
        "plot_pr_curve(precisions_ssd, recalls_ssd, 'SSD')\n",
        "plt.show()"
      ]
    },
    {
      "cell_type": "markdown",
      "id": "2o9-5SS0U3zD",
      "metadata": {
        "id": "2o9-5SS0U3zD"
      },
      "source": [
        "# Faster-RCNN with ResNet50 backbone CNN and FPN"
      ]
    },
    {
      "cell_type": "code",
      "execution_count": null,
      "id": "sensitive-bride",
      "metadata": {
        "colab": {
          "base_uri": "https://localhost:8080/"
        },
        "id": "sensitive-bride",
        "outputId": "e36c19f4-49cd-46c4-bea9-324a09544b75"
      },
      "outputs": [
        {
          "name": "stderr",
          "output_type": "stream",
          "text": [
            "/usr/local/lib/python3.10/dist-packages/torchvision/models/_utils.py:223: UserWarning: Arguments other than a weight enum or `None` for 'weights' are deprecated since 0.13 and may be removed in the future. The current behavior is equivalent to passing `weights=FasterRCNN_ResNet50_FPN_Weights.COCO_V1`. You can also use `weights=FasterRCNN_ResNet50_FPN_Weights.DEFAULT` to get the most up-to-date weights.\n",
            "  warnings.warn(msg)\n",
            "Downloading: \"https://download.pytorch.org/models/fasterrcnn_resnet50_fpn_coco-258fb6c6.pth\" to /root/.cache/torch/hub/checkpoints/fasterrcnn_resnet50_fpn_coco-258fb6c6.pth\n",
            "100%|██████████| 160M/160M [00:01<00:00, 153MB/s]\n"
          ]
        }
      ],
      "source": [
        "model = models.detection.fasterrcnn_resnet50_fpn(pretrained=True,num_classes=91).to(device)"
      ]
    },
    {
      "cell_type": "markdown",
      "id": "wWMvkCBlmPy1",
      "metadata": {
        "id": "wWMvkCBlmPy1"
      },
      "source": [
        "ALREADY RAN, THE RESULTS ARE ALREADY SAVED IN THE DRAVE UNDER /all_detections_faster and /all_targets_faster"
      ]
    },
    {
      "cell_type": "code",
      "execution_count": null,
      "id": "rIAguomobavn",
      "metadata": {
        "colab": {
          "base_uri": "https://localhost:8080/"
        },
        "id": "rIAguomobavn",
        "outputId": "274e34b5-77dd-49f7-b916-5e8be9464043"
      },
      "outputs": [
        {
          "name": "stderr",
          "output_type": "stream",
          "text": [
            "100%|██████████| 5000/5000 [1:11:42<00:00,  1.16it/s]\n"
          ]
        }
      ],
      "source": [
        "from tqdm import tqdm # fancy and unnecessary library to add loading bar for the loop\n",
        "\n",
        "model.eval() # switch to evaluation mode,\n",
        "\n",
        "all_detections = []\n",
        "all_targets = []\n",
        "for imgs_batch,targets_batch in tqdm(val_dataloader):\n",
        "    # Move imgs_batch and targets_batch to device\n",
        "    imgs_batch = [imgs.to(device) for imgs in imgs_batch]\n",
        "\n",
        "    targets_batch = [targets for targets in targets_batch]\n",
        "\n",
        "    # Transform targets to COCO format.\n",
        "    new_targets_batch = []\n",
        "    targets_batch = [targets_batch]\n",
        "\n",
        "    for targets in targets_batch:\n",
        "        new_targets = {'boxes':[],'labels':[]}\n",
        "        for t in targets:\n",
        "            x,y,w,h = [s for s in t['bbox']]\n",
        "            new_targets['boxes'].append(torch.Tensor([x, y, x+w, y+h]))\n",
        "            new_targets['labels'].append(t['category_id'])\n",
        "        if len(new_targets['boxes']) > 0:\n",
        "            new_targets['boxes'] = torch.stack(new_targets['boxes'], dim=0)\n",
        "        new_targets['labels'] = torch.Tensor(new_targets['labels']).long()\n",
        "        new_targets_batch.append(new_targets)\n",
        "    targets_batch = new_targets_batch\n",
        "\n",
        "    # Forward pass\n",
        "    with torch.no_grad():\n",
        "        detections_batch = model(imgs_batch)\n",
        "\n",
        "    del imgs_batch\n",
        "\n",
        "\n",
        "    # Keep detections and targets to compare\n",
        "    all_targets.append(targets_batch)\n",
        "    all_detections.append(detections_batch)\n",
        "\n",
        "torch.save(all_detections, '/content/drive/MyDrive/CV_6-CNN/all_detections_faster.pth')\n",
        "torch.save(all_targets,'/content/drive/MyDrive/CV_6-CNN/all_targets_faster.pth')"
      ]
    },
    {
      "cell_type": "markdown",
      "id": "8G3WACX7hJUY",
      "metadata": {
        "id": "8G3WACX7hJUY"
      },
      "source": [
        "## Precision, Recall, F1 score, Mean Average Precision (FASTER RCNN)"
      ]
    },
    {
      "cell_type": "markdown",
      "id": "Xg7QmwBJe6op",
      "metadata": {
        "id": "Xg7QmwBJe6op"
      },
      "source": [
        "### Load results for faster rcnn"
      ]
    },
    {
      "cell_type": "code",
      "execution_count": null,
      "id": "TboOgEd4ev-K",
      "metadata": {
        "colab": {
          "base_uri": "https://localhost:8080/"
        },
        "id": "TboOgEd4ev-K",
        "outputId": "92f8fec8-b9ec-4256-8873-a167d2838d31"
      },
      "outputs": [
        {
          "name": "stderr",
          "output_type": "stream",
          "text": [
            "<ipython-input-10-a609deb1d4a9>:2: FutureWarning: You are using `torch.load` with `weights_only=False` (the current default value), which uses the default pickle module implicitly. It is possible to construct malicious pickle data which will execute arbitrary code during unpickling (See https://github.com/pytorch/pytorch/blob/main/SECURITY.md#untrusted-models for more details). In a future release, the default value for `weights_only` will be flipped to `True`. This limits the functions that could be executed during unpickling. Arbitrary objects will no longer be allowed to be loaded via this mode unless they are explicitly allowlisted by the user via `torch.serialization.add_safe_globals`. We recommend you start setting `weights_only=True` for any use case where you don't have full control of the loaded file. Please open an issue on GitHub for any issues related to this experimental feature.\n",
            "  detections = torch.load('/content/drive/MyDrive/CV_6-CNN/all_detections_faster.pth')\n",
            "<ipython-input-10-a609deb1d4a9>:3: FutureWarning: You are using `torch.load` with `weights_only=False` (the current default value), which uses the default pickle module implicitly. It is possible to construct malicious pickle data which will execute arbitrary code during unpickling (See https://github.com/pytorch/pytorch/blob/main/SECURITY.md#untrusted-models for more details). In a future release, the default value for `weights_only` will be flipped to `True`. This limits the functions that could be executed during unpickling. Arbitrary objects will no longer be allowed to be loaded via this mode unless they are explicitly allowlisted by the user via `torch.serialization.add_safe_globals`. We recommend you start setting `weights_only=True` for any use case where you don't have full control of the loaded file. Please open an issue on GitHub for any issues related to this experimental feature.\n",
            "  targets = torch.load('/content/drive/MyDrive/CV_6-CNN/all_targets_faster.pth')\n"
          ]
        }
      ],
      "source": [
        "# Load saved detections and targets\n",
        "detections = torch.load('/content/drive/MyDrive/CV_6-CNN/all_detections_faster.pth')\n",
        "targets = torch.load('/content/drive/MyDrive/CV_6-CNN/all_targets_faster.pth')\n"
      ]
    },
    {
      "cell_type": "code",
      "execution_count": null,
      "id": "XmSRjY3fkmVl",
      "metadata": {
        "id": "XmSRjY3fkmVl"
      },
      "outputs": [],
      "source": [
        "# Evaluation Functions\n",
        "import torch\n",
        "import numpy as np\n",
        "from tqdm import tqdm\n",
        "\n",
        "def calculate_iou(box1, box2):\n",
        "    \"\"\"Calculate IoU between two boxes\"\"\"\n",
        "    # Convert boxes to correct format if needed\n",
        "    if len(box1) == 4:\n",
        "        box1_x1, box1_y1 = box1[0], box1[1]\n",
        "        box1_x2, box1_y2 = box1[0] + box1[2], box1[1] + box1[3]\n",
        "    else:\n",
        "        box1_x1, box1_y1, box1_x2, box1_y2 = box1\n",
        "\n",
        "    if len(box2) == 4:\n",
        "        box2_x1, box2_y1 = box2[0], box2[1]\n",
        "        box2_x2, box2_y2 = box2[0] + box2[2], box2[1] + box2[3]\n",
        "    else:\n",
        "        box2_x1, box2_y1, box2_x2, box2_y2 = box2\n",
        "\n",
        "    # Calculate intersection coordinates\n",
        "    x1 = max(box1_x1, box2_x1)\n",
        "    y1 = max(box1_y1, box2_y1)\n",
        "    x2 = min(box1_x2, box2_x2)\n",
        "    y2 = min(box1_y2, box2_y2)\n",
        "\n",
        "    # Calculate areas\n",
        "    intersection = max(0, x2 - x1) * max(0, y2 - y1)\n",
        "    box1_area = (box1_x2 - box1_x1) * (box1_y2 - box1_y1)\n",
        "    box2_area = (box2_x2 - box2_x1) * (box2_y2 - box2_y1)\n",
        "    union = box1_area + box2_area - intersection\n",
        "\n",
        "    return intersection / union if union > 0 else 0\n",
        "\n",
        "def evaluate_detections(detections, targets, iou_threshold=0.5, conf_threshold=0.5):\n",
        "    \"\"\"\n",
        "    Evaluate object detections against ground truth targets\n",
        "    \"\"\"\n",
        "    true_positives = []\n",
        "    false_positives = []\n",
        "    total_gt = 0\n",
        "\n",
        "    # Process each image\n",
        "    for img_dets, img_targets in tqdm(zip(detections, targets)):\n",
        "        if len(img_dets) == 0 or len(img_targets) == 0:\n",
        "            continue\n",
        "\n",
        "        # Get detection boxes and scores\n",
        "        det_boxes = img_dets[0]['boxes']\n",
        "        det_scores = img_dets[0]['scores']\n",
        "        det_labels = img_dets[0]['labels']\n",
        "\n",
        "        # Filter by confidence\n",
        "        mask = det_scores > conf_threshold\n",
        "        det_boxes = det_boxes[mask]\n",
        "        det_scores = det_scores[mask]\n",
        "        det_labels = det_labels[mask]\n",
        "\n",
        "        # Get target boxes and labels - they're already in the correct format\n",
        "        target_boxes = img_targets[0]['boxes']\n",
        "        target_labels = img_targets[0]['labels']\n",
        "\n",
        "        total_gt += len(target_boxes)\n",
        "\n",
        "        # Match detections to ground truth\n",
        "        matched_targets = set()  # Keep track of matched targets\n",
        "\n",
        "        for det_box, det_score, det_label in zip(det_boxes, det_scores, det_labels):\n",
        "            max_iou = 0\n",
        "            max_idx = -1\n",
        "\n",
        "            # Compare with each target box\n",
        "            for i, target_box in enumerate(target_boxes):\n",
        "                if i in matched_targets:\n",
        "                    continue  # Skip already matched targets\n",
        "\n",
        "                if target_labels[i] != det_label:\n",
        "                    continue\n",
        "\n",
        "                iou = calculate_iou(det_box.cpu(), target_box.cpu())\n",
        "                if iou > max_iou:\n",
        "                    max_iou = iou\n",
        "                    max_idx = i\n",
        "\n",
        "            if max_iou >= iou_threshold:\n",
        "                true_positives.append(det_score.cpu().item())\n",
        "                matched_targets.add(max_idx)\n",
        "            else:\n",
        "                false_positives.append(det_score.cpu().item())\n",
        "\n",
        "    # Calculate metrics\n",
        "    true_positives = np.array(sorted(true_positives, reverse=True))\n",
        "    false_positives = np.array(sorted(false_positives, reverse=True))\n",
        "\n",
        "    # Calculate final metrics\n",
        "    if len(true_positives) + len(false_positives) > 0:\n",
        "        precision = len(true_positives) / (len(true_positives) + len(false_positives))\n",
        "    else:\n",
        "        precision = 0\n",
        "\n",
        "    if total_gt > 0:\n",
        "        recall = len(true_positives) / total_gt\n",
        "    else:\n",
        "        recall = 0\n",
        "\n",
        "    f1 = 2 * (precision * recall) / (precision + recall) if (precision + recall) > 0 else 0\n",
        "\n",
        "    return precision, recall, f1"
      ]
    },
    {
      "cell_type": "code",
      "execution_count": null,
      "id": "Yv9MgFngtnMj",
      "metadata": {
        "id": "Yv9MgFngtnMj"
      },
      "outputs": [],
      "source": [
        "# Visualization Functions\n",
        "import matplotlib.pyplot as plt\n",
        "\n",
        "def calculate_pr_points(detections, targets, iou_threshold=0.5):\n",
        "    \"\"\"Calculate precision and recall points for plotting\"\"\"\n",
        "    tp = []\n",
        "    scores = []\n",
        "    num_gt = 0\n",
        "\n",
        "    for img_dets, img_targets in zip(detections, targets):\n",
        "        if len(img_dets) == 0 or len(img_targets) == 0:\n",
        "            continue\n",
        "\n",
        "        det_boxes = img_dets[0]['boxes']\n",
        "        det_scores = img_dets[0]['scores']\n",
        "        det_labels = img_dets[0]['labels']\n",
        "\n",
        "        target_boxes = img_targets[0]['boxes']\n",
        "        target_labels = img_targets[0]['labels']\n",
        "\n",
        "        num_gt += len(target_boxes)\n",
        "\n",
        "        matched_targets = set()\n",
        "\n",
        "        for det_box, score, det_label in zip(det_boxes, det_scores, det_labels):\n",
        "            max_iou = 0\n",
        "            max_idx = -1\n",
        "\n",
        "            for i, target_box in enumerate(target_boxes):\n",
        "                if i in matched_targets:\n",
        "                    continue\n",
        "\n",
        "                if target_labels[i] != det_label:\n",
        "                    continue\n",
        "\n",
        "                iou = calculate_iou(det_box.cpu(), target_box.cpu())\n",
        "                if iou > max_iou:\n",
        "                    max_iou = iou\n",
        "                    max_idx = i\n",
        "\n",
        "            if max_iou >= iou_threshold and max_idx not in matched_targets:\n",
        "                tp.append(1)\n",
        "                matched_targets.add(max_idx)\n",
        "            else:\n",
        "                tp.append(0)\n",
        "            scores.append(score.cpu().item())\n",
        "\n",
        "    if len(tp) == 0:\n",
        "        return np.array([]), np.array([])\n",
        "\n",
        "    # Sort by confidence\n",
        "    indices = np.argsort(scores)[::-1]\n",
        "    tp = np.array(tp)[indices]\n",
        "\n",
        "    # Calculate cumulative precisions and recalls\n",
        "    tp_cumsum = np.cumsum(tp)\n",
        "    precisions = tp_cumsum / np.arange(1, len(tp) + 1)\n",
        "    recalls = tp_cumsum / num_gt if num_gt > 0 else np.zeros_like(tp_cumsum)\n",
        "\n",
        "    return precisions, recalls\n",
        "\n",
        "def plot_pr_curve(precisions, recalls, model_name):\n",
        "    plt.plot(recalls, precisions, label=model_name)\n",
        "    plt.xlabel('Recall')\n",
        "    plt.ylabel('Precision')\n",
        "    plt.title('Precision-Recall Curve')\n",
        "    plt.grid(True)\n",
        "    plt.legend()"
      ]
    },
    {
      "cell_type": "code",
      "execution_count": null,
      "id": "wyuJuStryTFH",
      "metadata": {
        "colab": {
          "base_uri": "https://localhost:8080/"
        },
        "id": "wyuJuStryTFH",
        "outputId": "c2d12db3-babc-4809-9284-70992dab05b8"
      },
      "outputs": [
        {
          "name": "stdout",
          "output_type": "stream",
          "text": [
            "Calculating mAP...\n",
            "\n",
            "Mean Average Precision (mAP): 0.0055\n",
            "\n",
            "Average Precision per class:\n",
            "Class 1: 0.0071\n",
            "Class 2: 0.0031\n",
            "Class 3: 0.0042\n",
            "Class 4: 0.0065\n",
            "Class 5: 0.0016\n",
            "Class 6: 0.0014\n",
            "Class 7: 0.0016\n",
            "Class 8: 0.0034\n",
            "Class 9: 0.0144\n",
            "Class 10: 0.0022\n",
            "Class 11: 0.0008\n",
            "Class 13: 0.0000\n",
            "Class 14: 0.0000\n",
            "Class 15: 0.0040\n",
            "Class 16: 0.0033\n",
            "Class 17: 0.0017\n",
            "Class 18: 0.0015\n",
            "Class 19: 0.0114\n",
            "Class 20: 0.0114\n",
            "Class 21: 0.0086\n",
            "Class 22: 0.0165\n",
            "Class 23: 0.0091\n",
            "Class 24: 0.0240\n",
            "Class 25: 0.0037\n",
            "Class 27: 0.0073\n",
            "Class 28: 0.0031\n",
            "Class 31: 0.0023\n",
            "Class 32: 0.0021\n",
            "Class 33: 0.0303\n",
            "Class 34: 0.0028\n",
            "Class 35: 0.0034\n",
            "Class 36: 0.0114\n",
            "Class 37: 0.0006\n",
            "Class 38: 0.0065\n",
            "Class 39: 0.0009\n",
            "Class 40: 0.0035\n",
            "Class 41: 0.0020\n",
            "Class 42: 0.0091\n",
            "Class 43: 0.0043\n",
            "Class 44: 0.0039\n",
            "Class 46: 0.0083\n",
            "Class 47: 0.0036\n",
            "Class 48: 0.0182\n",
            "Class 49: 0.0026\n",
            "Class 50: 0.0012\n",
            "Class 51: 0.0052\n",
            "Class 52: 0.0060\n",
            "Class 53: 0.0048\n",
            "Class 54: 0.0046\n",
            "Class 55: 0.0047\n",
            "Class 56: 0.0086\n",
            "Class 57: 0.0114\n",
            "Class 58: 0.0303\n",
            "Class 59: 0.0052\n",
            "Class 60: 0.0096\n",
            "Class 61: 0.0057\n",
            "Class 62: 0.0062\n",
            "Class 63: 0.0130\n",
            "Class 64: 0.0022\n",
            "Class 65: 0.0011\n",
            "Class 67: 0.0013\n",
            "Class 70: 0.0002\n",
            "Class 72: 0.0028\n",
            "Class 73: 0.0026\n",
            "Class 74: 0.0026\n",
            "Class 75: 0.0061\n",
            "Class 76: 0.0035\n",
            "Class 77: 0.0019\n",
            "Class 78: 0.0000\n",
            "Class 79: 0.0041\n",
            "Class 80: 0.0000\n",
            "Class 81: 0.0004\n",
            "Class 82: 0.0051\n",
            "Class 84: 0.0029\n",
            "Class 85: 0.0013\n",
            "Class 86: 0.0029\n",
            "Class 87: 0.0000\n",
            "Class 88: 0.0130\n",
            "Class 89: 0.0000\n",
            "Class 90: 0.0000\n"
          ]
        }
      ],
      "source": [
        "def calculate_map(detections, targets, iou_threshold=0.5, num_recall_points=11):\n",
        "    \"\"\"\n",
        "    Calculate Mean Average Precision\n",
        "    \"\"\"\n",
        "    # Store APs for each class\n",
        "    class_aps = {}\n",
        "\n",
        "    # Get all unique classes from targets\n",
        "    all_classes = set()\n",
        "    for img_targets in targets:\n",
        "        if len(img_targets) > 0:\n",
        "            all_classes.update(img_targets[0]['labels'].cpu().numpy())\n",
        "\n",
        "    # Calculate AP for each class\n",
        "    for class_id in all_classes:\n",
        "        tp = []\n",
        "        scores = []\n",
        "        num_gt = 0\n",
        "\n",
        "        # Process each image\n",
        "        for img_dets, img_targets in zip(detections, targets):\n",
        "            if len(img_dets) == 0 or len(img_targets) == 0:\n",
        "                continue\n",
        "\n",
        "            # Get detections for this class\n",
        "            det_boxes = img_dets[0]['boxes']\n",
        "            det_scores = img_dets[0]['scores']\n",
        "            det_labels = img_dets[0]['labels']\n",
        "\n",
        "            # Filter detections by class\n",
        "            class_mask = det_labels == class_id\n",
        "            det_boxes = det_boxes[class_mask]\n",
        "            det_scores = det_scores[class_mask]\n",
        "\n",
        "            # Get ground truth for this class\n",
        "            target_boxes = img_targets[0]['boxes']\n",
        "            target_labels = img_targets[0]['labels']\n",
        "\n",
        "            # Filter ground truth boxes by class\n",
        "            target_mask = target_labels == class_id\n",
        "            if target_mask.any():\n",
        "                target_boxes = target_boxes[target_mask]\n",
        "                num_gt += len(target_boxes)\n",
        "            else:\n",
        "                continue\n",
        "\n",
        "            if len(det_boxes) == 0:\n",
        "                continue\n",
        "\n",
        "            # Match detections to ground truth\n",
        "            matched_gt = set()\n",
        "\n",
        "            for det_box, score in zip(det_boxes, det_scores):\n",
        "                max_iou = 0\n",
        "                max_idx = -1\n",
        "\n",
        "                for i, target_box in enumerate(target_boxes):\n",
        "                    if i in matched_gt:\n",
        "                        continue\n",
        "\n",
        "                    iou = calculate_iou(det_box.cpu(), target_box.cpu())\n",
        "                    if iou > max_iou:\n",
        "                        max_iou = iou\n",
        "                        max_idx = i\n",
        "\n",
        "                if max_iou >= iou_threshold and max_idx not in matched_gt:\n",
        "                    tp.append(1)\n",
        "                    matched_gt.add(max_idx)\n",
        "                else:\n",
        "                    tp.append(0)\n",
        "                scores.append(score.cpu().item())\n",
        "\n",
        "        if len(tp) == 0 or num_gt == 0:\n",
        "            class_aps[class_id] = 0\n",
        "            continue\n",
        "\n",
        "        # Convert to numpy arrays\n",
        "        tp = np.array(tp)\n",
        "        scores = np.array(scores)\n",
        "\n",
        "        # Sort by confidence\n",
        "        indices = np.argsort(scores)[::-1]\n",
        "        tp = tp[indices]\n",
        "\n",
        "        # Compute precision and recall\n",
        "        cumsum = np.cumsum(tp)\n",
        "        precisions = cumsum / np.arange(1, len(tp) + 1)\n",
        "        recalls = cumsum / num_gt\n",
        "\n",
        "        # Compute AP using 11-point interpolation\n",
        "        ap = 0\n",
        "        for recall_threshold in np.linspace(0, 1, num_recall_points):\n",
        "            precision_values = precisions[recalls >= recall_threshold]\n",
        "            if len(precision_values) > 0:\n",
        "                ap += np.max(precision_values)\n",
        "        ap /= num_recall_points\n",
        "\n",
        "        class_aps[class_id] = ap\n",
        "\n",
        "    # Calculate mAP\n",
        "    mean_ap = np.mean(list(class_aps.values()))\n",
        "\n",
        "    return mean_ap, class_aps\n",
        "\n",
        "# Calculate mAP\n",
        "print(\"Calculating mAP...\")\n",
        "mean_ap, class_aps = calculate_map(detections, targets)\n",
        "print(f\"\\nMean Average Precision (mAP): {mean_ap:.4f}\")\n",
        "\n",
        "# Print AP for each class\n",
        "print(\"\\nAverage Precision per class:\")\n",
        "for class_id, ap in sorted(class_aps.items()):\n",
        "    print(f\"Class {class_id}: {ap:.4f}\")"
      ]
    },
    {
      "cell_type": "code",
      "execution_count": null,
      "id": "Q5uOD_qDtqmt",
      "metadata": {
        "colab": {
          "base_uri": "https://localhost:8080/",
          "height": 840
        },
        "id": "Q5uOD_qDtqmt",
        "outputId": "d7100ab4-6d72-44cf-eca6-a1884b56c076"
      },
      "outputs": [
        {
          "name": "stdout",
          "output_type": "stream",
          "text": [
            "Evaluating Faster R-CNN...\n"
          ]
        },
        {
          "name": "stderr",
          "output_type": "stream",
          "text": [
            "5000it [00:50, 98.74it/s] \n"
          ]
        },
        {
          "name": "stdout",
          "output_type": "stream",
          "text": [
            "\n",
            "Faster R-CNN Results:\n",
            "Precision: 0.0320\n",
            "Recall: 0.0290\n",
            "F1 Score: 0.0304\n"
          ]
        },
        {
          "data": {
            "image/png": "[encoded data removed]",
            "text/plain": [
              "<Figure size 1000x800 with 1 Axes>"
            ]
          },
          "metadata": {},
          "output_type": "display_data"
        }
      ],
      "source": [
        "# Evaluate Faster R-CNN\n",
        "print(\"Evaluating Faster R-CNN...\")\n",
        "precision_rcnn, recall_rcnn, f1_rcnn = evaluate_detections(detections, targets)\n",
        "\n",
        "print(f\"\\nFaster R-CNN Results:\")\n",
        "print(f\"Precision: {precision_rcnn:.4f}\")\n",
        "print(f\"Recall: {recall_rcnn:.4f}\")\n",
        "print(f\"F1 Score: {f1_rcnn:.4f}\")\n",
        "\n",
        "# Plot PR curve\n",
        "plt.figure(figsize=(10, 8))\n",
        "precisions_rcnn, recalls_rcnn = calculate_pr_points(detections, targets)\n",
        "plot_pr_curve(precisions_rcnn, recalls_rcnn, 'Faster R-CNN')\n",
        "plt.show()"
      ]
    },
    {
      "cell_type": "code",
      "execution_count": null,
      "id": "YrcvDyoOu3xV",
      "metadata": {
        "colab": {
          "base_uri": "https://localhost:8080/"
        },
        "id": "YrcvDyoOu3xV",
        "outputId": "2ab4a3d4-997e-473f-a39f-37bd9223f5f0"
      },
      "outputs": [
        {
          "name": "stdout",
          "output_type": "stream",
          "text": [
            "Checking detections and targets structure...\n",
            "\n",
            "First detection item structure:\n",
            "dict_keys(['boxes', 'labels', 'scores'])\n",
            "\n",
            "First target item structure:\n",
            "dict_keys(['boxes', 'labels'])\n",
            "\n",
            "Example target:\n",
            "{'boxes': tensor([[236.9800, 142.5100, 261.6800, 212.0100],\n",
            "        [  7.0300, 167.7600, 156.3500, 262.6300],\n",
            "        [557.2100, 209.1900, 638.5600, 287.9200],\n",
            "        [358.9800, 218.0500, 414.9800, 320.8800],\n",
            "        [290.6900, 218.0000, 352.5200, 316.4800],\n",
            "        [413.2000, 223.0100, 443.3700, 304.3700],\n",
            "        [317.4000, 219.2400, 338.9800, 230.8300],\n",
            "        [412.8000, 157.6100, 465.8500, 295.6200],\n",
            "        [384.4300, 172.2100, 399.5500, 207.9500],\n",
            "        [512.2200, 205.7500, 526.9600, 221.7200],\n",
            "        [493.1000, 174.3400, 513.3900, 282.6500],\n",
            "        [604.7700, 305.8900, 619.1100, 351.6000],\n",
            "        [613.2400, 308.2400, 626.1200, 354.6800],\n",
            "        [447.7700, 121.1200, 461.7400, 143.0000],\n",
            "        [549.0600, 309.4300, 585.7400, 399.1000],\n",
            "        [350.7600, 208.8400, 362.1300, 231.3900],\n",
            "        [412.2500, 219.0200, 421.8800, 231.5400],\n",
            "        [241.2400, 194.9900, 255.4600, 212.6200],\n",
            "        [336.7900, 199.5000, 346.5200, 216.2300],\n",
            "        [321.2100, 231.2200, 446.7700, 320.1500]]), 'labels': tensor([64, 72, 72, 62, 62, 62, 62,  1,  1, 78, 82, 84, 84, 85, 86, 86, 62, 86,\n",
            "        86, 67])}\n"
          ]
        }
      ],
      "source": [
        "# Diagnostic code to understand data structure\n",
        "print(\"Checking detections and targets structure...\")\n",
        "print(\"\\nFirst detection item structure:\")\n",
        "print(detections[0][0].keys())  # Check available keys in detections\n",
        "\n",
        "print(\"\\nFirst target item structure:\")\n",
        "print(targets[0][0].keys())  # Check available keys in targets\n",
        "\n",
        "# Print full example\n",
        "print(\"\\nExample target:\")\n",
        "print(targets[0][0])"
      ]
    }
  ],
  "metadata": {
    "accelerator": "GPU",
    "colab": {
      "gpuType": "T4",
      "provenance": []
    },
    "kernelspec": {
      "display_name": "Python 3",
      "name": "python3"
    },
    "language_info": {
      "codemirror_mode": {
        "name": "ipython",
        "version": 3
      },
      "file_extension": ".py",
      "mimetype": "text/x-python",
      "name": "python",
      "nbconvert_exporter": "python",
      "pygments_lexer": "ipython3",
      "version": "3.8.3"
    }
  },
  "nbformat": 4,
  "nbformat_minor": 5
}
